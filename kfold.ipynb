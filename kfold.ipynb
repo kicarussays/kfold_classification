{
 "cells": [
  {
   "cell_type": "markdown",
   "metadata": {},
   "source": [
    "###    \n",
    "### Function"
   ]
  },
  {
   "cell_type": "code",
   "execution_count": 111,
   "metadata": {},
   "outputs": [],
   "source": [
    "def KFOLD(DATA, NUM_CLASSES, KFOLD):\n",
    "    CLS_TMP = list()\n",
    "    for i in range(NUM_CLASSES):\n",
    "        clssp = []\n",
    "        for j in DATA:\n",
    "            if int(j[-1]) == i:\n",
    "                clssp.append(j)\n",
    "        clssp = np.array(clssp)\n",
    "        CLS_TMP.append(clssp)\n",
    "\n",
    "    def KFOLD_SEPARATION(sample):\n",
    "        getsam = sample\n",
    "        kfoldset = []\n",
    "        for i in range(KFOLD):\n",
    "            putnum = len(getsam) // (KFOLD - i)\n",
    "            wtput = getsam[:putnum]\n",
    "            kfoldset.append(wtput)\n",
    "            getsam = getsam[putnum:]\n",
    "\n",
    "        return kfoldset\n",
    "\n",
    "    SEPARATED_SET = []\n",
    "    for i in CLS_TMP:\n",
    "        SEPARATED_SET.append(KFOLD_SEPARATION(i))\n",
    "\n",
    "    FINAL_SET = []\n",
    "    for i in np.transpose(SEPARATED_SET):\n",
    "        FINAL_SET.append(np.vstack(i))\n",
    "\n",
    "    return FINAL_SET"
   ]
  },
  {
   "cell_type": "code",
   "execution_count": 95,
   "metadata": {},
   "outputs": [],
   "source": [
    "DATA=sample\n",
    "NUM_CLASSES=len(set(y))\n",
    "KFOLD=5"
   ]
  },
  {
   "cell_type": "code",
   "execution_count": 100,
   "metadata": {},
   "outputs": [],
   "source": [
    "CLS_TMP = list()\n",
    "for i in range(NUM_CLASSES):\n",
    "    clssp = []\n",
    "    for j in DATA:\n",
    "        if int(j[-1]) == i:\n",
    "            clssp.append(j)\n",
    "    clssp = np.array(clssp)\n",
    "    CLS_TMP.append(clssp)\n",
    "\n",
    "def KFOLD_SEPARATION(sample):\n",
    "    getsam = sample\n",
    "    kfoldset = []\n",
    "    for i in range(KFOLD):\n",
    "        putnum = len(getsam) // (KFOLD - i)\n",
    "        wtput = getsam[:putnum]\n",
    "        kfoldset.append(wtput)\n",
    "        getsam = getsam[putnum:]\n",
    "\n",
    "    return kfoldset\n",
    "\n",
    "SEPARATED_SET = []\n",
    "for i in CLS_TMP:\n",
    "    SEPARATED_SET.append(KFOLD_SEPARATION(i))\n",
    "\n",
    "FINAL_SET = []\n",
    "for i in range(KFOLD):\n",
    "    FINAL_SET.append(np.vstack([SEPARATED_SET[j][i] for j in range(NUM_CLASSES)]))"
   ]
  },
  {
   "cell_type": "code",
   "execution_count": null,
   "metadata": {},
   "outputs": [],
   "source": []
  },
  {
   "cell_type": "code",
   "execution_count": null,
   "metadata": {},
   "outputs": [],
   "source": []
  },
  {
   "cell_type": "code",
   "execution_count": null,
   "metadata": {},
   "outputs": [],
   "source": []
  },
  {
   "cell_type": "markdown",
   "metadata": {},
   "source": [
    "###   \n",
    "### Example"
   ]
  },
  {
   "cell_type": "code",
   "execution_count": 104,
   "metadata": {},
   "outputs": [],
   "source": [
    "import numpy as np\n",
    "from sklearn.datasets import load_iris\n",
    "X, y = load_iris(return_X_y=True)"
   ]
  },
  {
   "cell_type": "code",
   "execution_count": 105,
   "metadata": {
    "scrolled": true
   },
   "outputs": [],
   "source": [
    "sample = np.concatenate((X, y.reshape(len(X), 1)), axis=1)"
   ]
  },
  {
   "cell_type": "code",
   "execution_count": 106,
   "metadata": {},
   "outputs": [
    {
     "data": {
      "text/plain": [
       "150"
      ]
     },
     "execution_count": 106,
     "metadata": {},
     "output_type": "execute_result"
    }
   ],
   "source": [
    "len(sample)"
   ]
  },
  {
   "cell_type": "code",
   "execution_count": 107,
   "metadata": {},
   "outputs": [
    {
     "data": {
      "text/plain": [
       "array([[5.1, 3.5, 1.4, 0.2, 0. ],\n",
       "       [4.9, 3. , 1.4, 0.2, 0. ],\n",
       "       [4.7, 3.2, 1.3, 0.2, 0. ],\n",
       "       [4.6, 3.1, 1.5, 0.2, 0. ],\n",
       "       [5. , 3.6, 1.4, 0.2, 0. ]])"
      ]
     },
     "execution_count": 107,
     "metadata": {},
     "output_type": "execute_result"
    }
   ],
   "source": [
    "sample[:5]"
   ]
  },
  {
   "cell_type": "code",
   "execution_count": 109,
   "metadata": {},
   "outputs": [
    {
     "data": {
      "text/plain": [
       "3"
      ]
     },
     "execution_count": 109,
     "metadata": {},
     "output_type": "execute_result"
    }
   ],
   "source": [
    "len(set(y))"
   ]
  },
  {
   "cell_type": "code",
   "execution_count": 112,
   "metadata": {},
   "outputs": [],
   "source": [
    "kf = KFOLD(DATA=sample, NUM_CLASSES=len(set(y)), KFOLD=5)"
   ]
  },
  {
   "cell_type": "code",
   "execution_count": 113,
   "metadata": {},
   "outputs": [
    {
     "name": "stdout",
     "output_type": "stream",
     "text": [
      "50\n",
      "50\n",
      "50\n",
      "50\n",
      "50\n"
     ]
    }
   ],
   "source": [
    "for i in kf:\n",
    "    print(len(i))"
   ]
  },
  {
   "cell_type": "code",
   "execution_count": 114,
   "metadata": {},
   "outputs": [
    {
     "data": {
      "text/plain": [
       "array([[5.1, 7. , 6.3],\n",
       "       [5.4, 5. , 6.5],\n",
       "       [5.4, 5.9, 6.9],\n",
       "       [4.8, 5.5, 7.4],\n",
       "       [5. , 5.5, 6.7],\n",
       "       [4.9, 6.4, 5.8],\n",
       "       [4.8, 5.9, 6.4],\n",
       "       [5.1, 6.1, 5.6],\n",
       "       [5.4, 5.5, 7.9],\n",
       "       [4.5, 6.1, 6.9],\n",
       "       [4.7, 6.9, 7.1],\n",
       "       [4.8, 6. , 6.8],\n",
       "       [4.6, 6.3, 7.7],\n",
       "       [5.2, 5.8, 6.4],\n",
       "       [4.4, 5.8, 5.8],\n",
       "       [4.6, 5.5, 6.3],\n",
       "       [4.3, 6.1, 5.7],\n",
       "       [5.1, 6.1, 6.3],\n",
       "       [5.5, 6. , 6.3],\n",
       "       [5. , 5. , 6.8],\n",
       "       [5. , 6.5, 6.5],\n",
       "       [5.8, 5.6, 5.8],\n",
       "       [4.8, 6.4, 6.7],\n",
       "       [4.9, 5.4, 6.1],\n",
       "       [5.1, 5.6, 6.7],\n",
       "       [5.4, 5.7, 7.6],\n",
       "       [5.7, 6.7, 6.4],\n",
       "       [5. , 6.6, 7.2],\n",
       "       [5. , 6. , 7.7],\n",
       "       [4.8, 5.7, 6.7],\n",
       "       [4.6, 6.3, 4.9],\n",
       "       [5.4, 5.6, 6.5],\n",
       "       [5. , 6.8, 6.2],\n",
       "       [5.5, 6.7, 6.3],\n",
       "       [5.1, 5.7, 6.3],\n",
       "       [5. , 4.9, 7.3],\n",
       "       [5.1, 5.8, 7.7],\n",
       "       [5.2, 6.7, 6.1],\n",
       "       [4.9, 6.3, 6.4],\n",
       "       [4.6, 6.2, 6.5],\n",
       "       [4.4, 6.6, 6.7],\n",
       "       [5.7, 6.2, 7.7],\n",
       "       [5.2, 6. , 6.4],\n",
       "       [4.4, 5.6, 6. ],\n",
       "       [5.3, 5.1, 6.2],\n",
       "       [4.9, 5.2, 7.2],\n",
       "       [5.1, 5.6, 6. ],\n",
       "       [4.7, 5.7, 7.2],\n",
       "       [5.1, 5.5, 6.9],\n",
       "       [5. , 5.7, 5.9]])"
      ]
     },
     "execution_count": 114,
     "metadata": {},
     "output_type": "execute_result"
    }
   ],
   "source": [
    "kf[0]"
   ]
  },
  {
   "cell_type": "code",
   "execution_count": null,
   "metadata": {},
   "outputs": [],
   "source": []
  }
 ],
 "metadata": {
  "kernelspec": {
   "display_name": "Python 3",
   "language": "python",
   "name": "python3"
  },
  "language_info": {
   "codemirror_mode": {
    "name": "ipython",
    "version": 3
   },
   "file_extension": ".py",
   "mimetype": "text/x-python",
   "name": "python",
   "nbconvert_exporter": "python",
   "pygments_lexer": "ipython3",
   "version": "3.6.9"
  }
 },
 "nbformat": 4,
 "nbformat_minor": 4
}
